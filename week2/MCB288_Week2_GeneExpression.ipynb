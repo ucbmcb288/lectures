{
 "cells": [
  {
   "cell_type": "code",
   "execution_count": 30,
   "metadata": {
    "collapsed": true
   },
   "outputs": [],
   "source": [
    "%matplotlib inline"
   ]
  },
  {
   "cell_type": "code",
   "execution_count": 1,
   "metadata": {
    "collapsed": true
   },
   "outputs": [],
   "source": [
    "import pandas as pd\n",
    "import os\n",
    "from functools import reduce\n",
    "import matplotlib.pyplot as plt\n",
    "import numpy as np\n",
    "from scipy.stats.stats import pearsonr\n",
    "from scipy import stats\n",
    "from scipy.stats import ks_2samp\n",
    "from scipy.stats import entropy\n",
    "from scipy.stats import norm\n",
    "from scipy.stats import lognorm\n",
    "\n",
    "from pandas.tools.plotting import scatter_matrix"
   ]
  },
  {
   "cell_type": "markdown",
   "metadata": {},
   "source": [
    "### This lesson analyzes data from the following paper\n",
    "\n",
    "https://www.ncbi.nlm.nih.gov/pmc/articles/PMC4878611/pdf/839.pdf\n",
    "\n",
    "#### How many biological replicates are needed in an RNA-seq experiment and which differential expression tool should you use?\n",
    "\n",
    "RNA-seq is now the technology of choice for genome-wide differential gene expression experiments, but it is not clear how many biological replicates are needed to ensure valid biological interpretation of the results or which statistical tools are best for analyzing the data. An RNA-seq experiment with 48 biological replicates in each of two conditions was performed to answer these questions and provide guidelines for experimental design. With three biological replicates, nine of the 11 tools evaluated found only 20%–40% of the significantly differentially expressed (SDE) genes identified with the full set of 42 clean replicates. This rises to >85% for the subset of SDE genes changing in expression by more than fourfold. To achieve >85% for all SDE genes regardless of fold change requires more than 20 biological replicates. The same nine tools successfully control their false discovery rate at ≲5% for all numbers of replicates, while the remaining two tools fail to control their FDR adequately, particularly for low numbers of replicates. For future RNA-seq experiments, these results suggest that at least six biological replicates should be used, rising to at least 12 when it is important to identify SDE genes for all fold changes. If fewer than 12 replicates are used, a superior combination of true positive and false positive performances makes edgeR and DESeq2 the leading tools. For higher replicate numbers, minimizing false positives is more important and DESeq marginally outperforms the other tools."
   ]
  },
  {
   "cell_type": "markdown",
   "metadata": {},
   "source": [
    "### Datafiles\n",
    "\n",
    "There are 96 separate datafiles, each representing the processed output of an RNAseq experiment looking at mRNA levels in wild-type (48 samples) or SNF2 deletion (48 samples) yeast cells grown under standard condition. \n",
    "\n",
    "The files are incredible simple. Two columns, separated by tabs. The first column is the gene name, the second column the normalized counts for that gene in that sample (read the paper if you're interested in how they did the counting and normalization).\n",
    "\n",
    "YBL013W 39\n",
    "YBL014C 127\n",
    "YBL015W 732\n",
    "YBL016W 309\n",
    "YBL017C 1613\n",
    "YBL018C 174\n",
    "YBL019W 117\n",
    "YBL020W 258\n",
    "YBL021C 248\n",
    "YBL022C 1168\n",
    "YBL023C 331\n",
    "YBL024W 451\n",
    "YBL025W 64\n",
    "YBL026W 206\n",
    "YBL027W 9723\n",
    "YBL028C 77\n",
    "YBL029C-A       157\n",
    "\n",
    "Most of the genes have this naming format:\n",
    "\n",
    "Systematic names for nuclear-encoded ORFs begin with the letter 'Y' (for 'Yeast'); the second letter denotes the chromosome number ('A' is chr I, 'B' is chr II, etc.); the third letter is either 'L' or 'R' for left or right chromosome arm; next is a three digit number indicating the order of the ORFs on that arm of a chromosome starting from the centromere, irrespective of strand; finally, there is an additional letter indicating the strand, either 'W' for Watson (the strand with 5' end at the left telomere) or 'C' for Crick (the complement strand, 5' end is at the right telomere).\n",
    "\n",
    "You can read about the yeast gene naming system here - http://seq.yeastgenome.org/help/community/nomenclature-conventions. "
   ]
  },
  {
   "cell_type": "code",
   "execution_count": 2,
   "metadata": {
    "collapsed": true
   },
   "outputs": [],
   "source": [
    "# \n",
    "# Input data are in individual tab-delimited files, one for each experiment\n",
    "# Here I load each one into its own Pandas dataframe and create a list of frames\n",
    "#\n",
    "\n",
    "frames = []\n",
    "\n",
    "for file in os.listdir(\"Data\"):\n",
    "    if file.endswith(\".gbgout\"):\n",
    "        filepath = os.path.join(\"Data/\", file)\n",
    "        fs = file.split('_')\n",
    "        name = \"_\".join(fs[0:2])\n",
    "        frames.append(pd.read_csv(filepath, sep=\"\\t\", header = None, names=['Gene',name]))"
   ]
  },
  {
   "cell_type": "code",
   "execution_count": 3,
   "metadata": {
    "collapsed": false
   },
   "outputs": [
    {
     "data": {
      "text/html": [
       "<div>\n",
       "<style scoped>\n",
       "    .dataframe tbody tr th:only-of-type {\n",
       "        vertical-align: middle;\n",
       "    }\n",
       "\n",
       "    .dataframe tbody tr th {\n",
       "        vertical-align: top;\n",
       "    }\n",
       "\n",
       "    .dataframe thead th {\n",
       "        text-align: right;\n",
       "    }\n",
       "</style>\n",
       "<table border=\"1\" class=\"dataframe\">\n",
       "  <thead>\n",
       "    <tr style=\"text-align: right;\">\n",
       "      <th></th>\n",
       "      <th>Gene</th>\n",
       "      <th>Snf2_rep39</th>\n",
       "    </tr>\n",
       "  </thead>\n",
       "  <tbody>\n",
       "    <tr>\n",
       "      <th>0</th>\n",
       "      <td>15S_rRNA</td>\n",
       "      <td>7</td>\n",
       "    </tr>\n",
       "    <tr>\n",
       "      <th>1</th>\n",
       "      <td>21S_rRNA</td>\n",
       "      <td>64</td>\n",
       "    </tr>\n",
       "    <tr>\n",
       "      <th>2</th>\n",
       "      <td>HRA1</td>\n",
       "      <td>5</td>\n",
       "    </tr>\n",
       "    <tr>\n",
       "      <th>3</th>\n",
       "      <td>ICR1</td>\n",
       "      <td>286</td>\n",
       "    </tr>\n",
       "    <tr>\n",
       "      <th>4</th>\n",
       "      <td>LSR1</td>\n",
       "      <td>250</td>\n",
       "    </tr>\n",
       "  </tbody>\n",
       "</table>\n",
       "</div>"
      ],
      "text/plain": [
       "       Gene  Snf2_rep39\n",
       "0  15S_rRNA           7\n",
       "1  21S_rRNA          64\n",
       "2      HRA1           5\n",
       "3      ICR1         286\n",
       "4      LSR1         250"
      ]
     },
     "execution_count": 3,
     "metadata": {},
     "output_type": "execute_result"
    }
   ],
   "source": [
    "#\n",
    "# the list frames is a list of dataframes \n",
    "# this is what they look like\n",
    "#\n",
    "\n",
    "frames[0].head()"
   ]
  },
  {
   "cell_type": "code",
   "execution_count": 4,
   "metadata": {
    "collapsed": true
   },
   "outputs": [],
   "source": [
    "#\n",
    "# Combines all of the individual frames into one dataframe, combining on the \"Gene\" column\n",
    "# Column names are the data file\n",
    "#\n",
    "\n",
    "df = reduce(lambda  left,right: pd.merge(left,right,on=['Gene'], how='outer'), frames)"
   ]
  },
  {
   "cell_type": "code",
   "execution_count": 5,
   "metadata": {
    "collapsed": false
   },
   "outputs": [
    {
     "data": {
      "text/html": [
       "<div>\n",
       "<style scoped>\n",
       "    .dataframe tbody tr th:only-of-type {\n",
       "        vertical-align: middle;\n",
       "    }\n",
       "\n",
       "    .dataframe tbody tr th {\n",
       "        vertical-align: top;\n",
       "    }\n",
       "\n",
       "    .dataframe thead th {\n",
       "        text-align: right;\n",
       "    }\n",
       "</style>\n",
       "<table border=\"1\" class=\"dataframe\">\n",
       "  <thead>\n",
       "    <tr style=\"text-align: right;\">\n",
       "      <th></th>\n",
       "      <th>Gene</th>\n",
       "      <th>Snf2_rep39</th>\n",
       "      <th>WT_rep18</th>\n",
       "      <th>WT_rep17</th>\n",
       "      <th>Snf2_rep31</th>\n",
       "      <th>Snf2_rep43</th>\n",
       "      <th>Snf2_rep35</th>\n",
       "      <th>Snf2_rep28</th>\n",
       "      <th>Snf2_rep08</th>\n",
       "      <th>Snf2_rep30</th>\n",
       "      <th>...</th>\n",
       "      <th>Snf2_rep16</th>\n",
       "      <th>Snf2_rep17</th>\n",
       "      <th>Snf2_rep11</th>\n",
       "      <th>Snf2_rep23</th>\n",
       "      <th>Snf2_rep06</th>\n",
       "      <th>Snf2_rep33</th>\n",
       "      <th>WT_rep44</th>\n",
       "      <th>WT_rep02</th>\n",
       "      <th>WT_rep37</th>\n",
       "      <th>WT_rep36</th>\n",
       "    </tr>\n",
       "  </thead>\n",
       "  <tbody>\n",
       "    <tr>\n",
       "      <th>0</th>\n",
       "      <td>15S_rRNA</td>\n",
       "      <td>7</td>\n",
       "      <td>55</td>\n",
       "      <td>25</td>\n",
       "      <td>5</td>\n",
       "      <td>85</td>\n",
       "      <td>172</td>\n",
       "      <td>13</td>\n",
       "      <td>4</td>\n",
       "      <td>29</td>\n",
       "      <td>...</td>\n",
       "      <td>5</td>\n",
       "      <td>50</td>\n",
       "      <td>7</td>\n",
       "      <td>8</td>\n",
       "      <td>3</td>\n",
       "      <td>16</td>\n",
       "      <td>12</td>\n",
       "      <td>12</td>\n",
       "      <td>1</td>\n",
       "      <td>21</td>\n",
       "    </tr>\n",
       "    <tr>\n",
       "      <th>1</th>\n",
       "      <td>21S_rRNA</td>\n",
       "      <td>64</td>\n",
       "      <td>270</td>\n",
       "      <td>119</td>\n",
       "      <td>45</td>\n",
       "      <td>576</td>\n",
       "      <td>579</td>\n",
       "      <td>192</td>\n",
       "      <td>33</td>\n",
       "      <td>170</td>\n",
       "      <td>...</td>\n",
       "      <td>38</td>\n",
       "      <td>391</td>\n",
       "      <td>64</td>\n",
       "      <td>39</td>\n",
       "      <td>62</td>\n",
       "      <td>76</td>\n",
       "      <td>58</td>\n",
       "      <td>76</td>\n",
       "      <td>29</td>\n",
       "      <td>193</td>\n",
       "    </tr>\n",
       "    <tr>\n",
       "      <th>2</th>\n",
       "      <td>HRA1</td>\n",
       "      <td>5</td>\n",
       "      <td>0</td>\n",
       "      <td>6</td>\n",
       "      <td>4</td>\n",
       "      <td>0</td>\n",
       "      <td>4</td>\n",
       "      <td>0</td>\n",
       "      <td>4</td>\n",
       "      <td>1</td>\n",
       "      <td>...</td>\n",
       "      <td>2</td>\n",
       "      <td>2</td>\n",
       "      <td>3</td>\n",
       "      <td>0</td>\n",
       "      <td>1</td>\n",
       "      <td>3</td>\n",
       "      <td>2</td>\n",
       "      <td>2</td>\n",
       "      <td>4</td>\n",
       "      <td>0</td>\n",
       "    </tr>\n",
       "    <tr>\n",
       "      <th>3</th>\n",
       "      <td>ICR1</td>\n",
       "      <td>286</td>\n",
       "      <td>134</td>\n",
       "      <td>129</td>\n",
       "      <td>102</td>\n",
       "      <td>202</td>\n",
       "      <td>140</td>\n",
       "      <td>151</td>\n",
       "      <td>160</td>\n",
       "      <td>123</td>\n",
       "      <td>...</td>\n",
       "      <td>175</td>\n",
       "      <td>203</td>\n",
       "      <td>191</td>\n",
       "      <td>157</td>\n",
       "      <td>146</td>\n",
       "      <td>239</td>\n",
       "      <td>81</td>\n",
       "      <td>123</td>\n",
       "      <td>111</td>\n",
       "      <td>85</td>\n",
       "    </tr>\n",
       "    <tr>\n",
       "      <th>4</th>\n",
       "      <td>LSR1</td>\n",
       "      <td>250</td>\n",
       "      <td>411</td>\n",
       "      <td>206</td>\n",
       "      <td>81</td>\n",
       "      <td>742</td>\n",
       "      <td>713</td>\n",
       "      <td>199</td>\n",
       "      <td>96</td>\n",
       "      <td>265</td>\n",
       "      <td>...</td>\n",
       "      <td>137</td>\n",
       "      <td>439</td>\n",
       "      <td>157</td>\n",
       "      <td>175</td>\n",
       "      <td>522</td>\n",
       "      <td>306</td>\n",
       "      <td>81</td>\n",
       "      <td>163</td>\n",
       "      <td>100</td>\n",
       "      <td>223</td>\n",
       "    </tr>\n",
       "  </tbody>\n",
       "</table>\n",
       "<p>5 rows × 97 columns</p>\n",
       "</div>"
      ],
      "text/plain": [
       "       Gene  Snf2_rep39  WT_rep18  WT_rep17  Snf2_rep31  Snf2_rep43  \\\n",
       "0  15S_rRNA           7        55        25           5          85   \n",
       "1  21S_rRNA          64       270       119          45         576   \n",
       "2      HRA1           5         0         6           4           0   \n",
       "3      ICR1         286       134       129         102         202   \n",
       "4      LSR1         250       411       206          81         742   \n",
       "\n",
       "   Snf2_rep35  Snf2_rep28  Snf2_rep08  Snf2_rep30    ...     Snf2_rep16  \\\n",
       "0         172          13           4          29    ...              5   \n",
       "1         579         192          33         170    ...             38   \n",
       "2           4           0           4           1    ...              2   \n",
       "3         140         151         160         123    ...            175   \n",
       "4         713         199          96         265    ...            137   \n",
       "\n",
       "   Snf2_rep17  Snf2_rep11  Snf2_rep23  Snf2_rep06  Snf2_rep33  WT_rep44  \\\n",
       "0          50           7           8           3          16        12   \n",
       "1         391          64          39          62          76        58   \n",
       "2           2           3           0           1           3         2   \n",
       "3         203         191         157         146         239        81   \n",
       "4         439         157         175         522         306        81   \n",
       "\n",
       "   WT_rep02  WT_rep37  WT_rep36  \n",
       "0        12         1        21  \n",
       "1        76        29       193  \n",
       "2         2         4         0  \n",
       "3       123       111        85  \n",
       "4       163       100       223  \n",
       "\n",
       "[5 rows x 97 columns]"
      ]
     },
     "execution_count": 5,
     "metadata": {},
     "output_type": "execute_result"
    }
   ],
   "source": [
    "df.head()"
   ]
  },
  {
   "cell_type": "code",
   "execution_count": 6,
   "metadata": {
    "collapsed": false
   },
   "outputs": [
    {
     "name": "stderr",
     "output_type": "stream",
     "text": [
      "/Users/eisen/anaconda/lib/python3.5/site-packages/ipykernel/__main__.py:5: FutureWarning: '.reindex_axis' is deprecated and will be removed in a future version. Use '.reindex' instead.\n"
     ]
    }
   ],
   "source": [
    "#\n",
    "# Sort columns by name for convenience\n",
    "#\n",
    "\n",
    "df = df.reindex_axis(sorted(df.columns), axis=1)"
   ]
  },
  {
   "cell_type": "code",
   "execution_count": 7,
   "metadata": {
    "collapsed": false
   },
   "outputs": [
    {
     "data": {
      "text/html": [
       "<div>\n",
       "<style scoped>\n",
       "    .dataframe tbody tr th:only-of-type {\n",
       "        vertical-align: middle;\n",
       "    }\n",
       "\n",
       "    .dataframe tbody tr th {\n",
       "        vertical-align: top;\n",
       "    }\n",
       "\n",
       "    .dataframe thead th {\n",
       "        text-align: right;\n",
       "    }\n",
       "</style>\n",
       "<table border=\"1\" class=\"dataframe\">\n",
       "  <thead>\n",
       "    <tr style=\"text-align: right;\">\n",
       "      <th></th>\n",
       "      <th>Gene</th>\n",
       "      <th>Snf2_rep01</th>\n",
       "      <th>Snf2_rep02</th>\n",
       "      <th>Snf2_rep03</th>\n",
       "      <th>Snf2_rep04</th>\n",
       "      <th>Snf2_rep05</th>\n",
       "      <th>Snf2_rep06</th>\n",
       "      <th>Snf2_rep07</th>\n",
       "      <th>Snf2_rep08</th>\n",
       "      <th>Snf2_rep09</th>\n",
       "      <th>...</th>\n",
       "      <th>WT_rep39</th>\n",
       "      <th>WT_rep40</th>\n",
       "      <th>WT_rep41</th>\n",
       "      <th>WT_rep42</th>\n",
       "      <th>WT_rep43</th>\n",
       "      <th>WT_rep44</th>\n",
       "      <th>WT_rep45</th>\n",
       "      <th>WT_rep46</th>\n",
       "      <th>WT_rep47</th>\n",
       "      <th>WT_rep48</th>\n",
       "    </tr>\n",
       "  </thead>\n",
       "  <tbody>\n",
       "    <tr>\n",
       "      <th>0</th>\n",
       "      <td>15S_rRNA</td>\n",
       "      <td>4</td>\n",
       "      <td>2</td>\n",
       "      <td>5</td>\n",
       "      <td>5</td>\n",
       "      <td>46</td>\n",
       "      <td>3</td>\n",
       "      <td>5</td>\n",
       "      <td>4</td>\n",
       "      <td>2</td>\n",
       "      <td>...</td>\n",
       "      <td>0</td>\n",
       "      <td>49</td>\n",
       "      <td>9</td>\n",
       "      <td>4</td>\n",
       "      <td>11</td>\n",
       "      <td>12</td>\n",
       "      <td>1</td>\n",
       "      <td>22</td>\n",
       "      <td>12</td>\n",
       "      <td>4</td>\n",
       "    </tr>\n",
       "    <tr>\n",
       "      <th>1</th>\n",
       "      <td>21S_rRNA</td>\n",
       "      <td>31</td>\n",
       "      <td>18</td>\n",
       "      <td>23</td>\n",
       "      <td>44</td>\n",
       "      <td>356</td>\n",
       "      <td>62</td>\n",
       "      <td>35</td>\n",
       "      <td>33</td>\n",
       "      <td>13</td>\n",
       "      <td>...</td>\n",
       "      <td>10</td>\n",
       "      <td>274</td>\n",
       "      <td>49</td>\n",
       "      <td>30</td>\n",
       "      <td>72</td>\n",
       "      <td>58</td>\n",
       "      <td>21</td>\n",
       "      <td>159</td>\n",
       "      <td>107</td>\n",
       "      <td>70</td>\n",
       "    </tr>\n",
       "    <tr>\n",
       "      <th>2</th>\n",
       "      <td>HRA1</td>\n",
       "      <td>5</td>\n",
       "      <td>1</td>\n",
       "      <td>3</td>\n",
       "      <td>1</td>\n",
       "      <td>2</td>\n",
       "      <td>1</td>\n",
       "      <td>1</td>\n",
       "      <td>4</td>\n",
       "      <td>4</td>\n",
       "      <td>...</td>\n",
       "      <td>5</td>\n",
       "      <td>3</td>\n",
       "      <td>6</td>\n",
       "      <td>5</td>\n",
       "      <td>2</td>\n",
       "      <td>2</td>\n",
       "      <td>2</td>\n",
       "      <td>5</td>\n",
       "      <td>2</td>\n",
       "      <td>1</td>\n",
       "    </tr>\n",
       "    <tr>\n",
       "      <th>3</th>\n",
       "      <td>ICR1</td>\n",
       "      <td>205</td>\n",
       "      <td>196</td>\n",
       "      <td>211</td>\n",
       "      <td>252</td>\n",
       "      <td>127</td>\n",
       "      <td>146</td>\n",
       "      <td>275</td>\n",
       "      <td>160</td>\n",
       "      <td>190</td>\n",
       "      <td>...</td>\n",
       "      <td>85</td>\n",
       "      <td>177</td>\n",
       "      <td>137</td>\n",
       "      <td>118</td>\n",
       "      <td>113</td>\n",
       "      <td>81</td>\n",
       "      <td>142</td>\n",
       "      <td>94</td>\n",
       "      <td>187</td>\n",
       "      <td>106</td>\n",
       "    </tr>\n",
       "    <tr>\n",
       "      <th>4</th>\n",
       "      <td>LSR1</td>\n",
       "      <td>210</td>\n",
       "      <td>103</td>\n",
       "      <td>159</td>\n",
       "      <td>260</td>\n",
       "      <td>298</td>\n",
       "      <td>522</td>\n",
       "      <td>303</td>\n",
       "      <td>96</td>\n",
       "      <td>132</td>\n",
       "      <td>...</td>\n",
       "      <td>66</td>\n",
       "      <td>385</td>\n",
       "      <td>232</td>\n",
       "      <td>149</td>\n",
       "      <td>114</td>\n",
       "      <td>81</td>\n",
       "      <td>109</td>\n",
       "      <td>132</td>\n",
       "      <td>243</td>\n",
       "      <td>128</td>\n",
       "    </tr>\n",
       "  </tbody>\n",
       "</table>\n",
       "<p>5 rows × 97 columns</p>\n",
       "</div>"
      ],
      "text/plain": [
       "       Gene  Snf2_rep01  Snf2_rep02  Snf2_rep03  Snf2_rep04  Snf2_rep05  \\\n",
       "0  15S_rRNA           4           2           5           5          46   \n",
       "1  21S_rRNA          31          18          23          44         356   \n",
       "2      HRA1           5           1           3           1           2   \n",
       "3      ICR1         205         196         211         252         127   \n",
       "4      LSR1         210         103         159         260         298   \n",
       "\n",
       "   Snf2_rep06  Snf2_rep07  Snf2_rep08  Snf2_rep09    ...     WT_rep39  \\\n",
       "0           3           5           4           2    ...            0   \n",
       "1          62          35          33          13    ...           10   \n",
       "2           1           1           4           4    ...            5   \n",
       "3         146         275         160         190    ...           85   \n",
       "4         522         303          96         132    ...           66   \n",
       "\n",
       "   WT_rep40  WT_rep41  WT_rep42  WT_rep43  WT_rep44  WT_rep45  WT_rep46  \\\n",
       "0        49         9         4        11        12         1        22   \n",
       "1       274        49        30        72        58        21       159   \n",
       "2         3         6         5         2         2         2         5   \n",
       "3       177       137       118       113        81       142        94   \n",
       "4       385       232       149       114        81       109       132   \n",
       "\n",
       "   WT_rep47  WT_rep48  \n",
       "0        12         4  \n",
       "1       107        70  \n",
       "2         2         1  \n",
       "3       187       106  \n",
       "4       243       128  \n",
       "\n",
       "[5 rows x 97 columns]"
      ]
     },
     "execution_count": 7,
     "metadata": {},
     "output_type": "execute_result"
    }
   ],
   "source": [
    "df.head()"
   ]
  },
  {
   "cell_type": "code",
   "execution_count": 8,
   "metadata": {
    "collapsed": true
   },
   "outputs": [],
   "source": [
    "#\n",
    "# Use only genes starting with \"Y\" which are protein-coding genes\n",
    "# You can come back and revisit this choice later if you want\n",
    "#\n",
    "\n",
    "df = df.loc[df['Gene'].str.startswith('Y')]"
   ]
  },
  {
   "cell_type": "code",
   "execution_count": 9,
   "metadata": {
    "collapsed": true
   },
   "outputs": [],
   "source": [
    "#\n",
    "# Index dataframe on 'Gene'\n",
    "#\n",
    "\n",
    "df = df.set_index('Gene')"
   ]
  },
  {
   "cell_type": "code",
   "execution_count": 10,
   "metadata": {
    "collapsed": true,
    "scrolled": true
   },
   "outputs": [],
   "source": [
    "# Save so we don't have to do all that again next time\n",
    "\n",
    "df.to_csv(\"Barton_combined_Ygenes.txt\", sep='\\t')"
   ]
  },
  {
   "cell_type": "code",
   "execution_count": null,
   "metadata": {
    "collapsed": true
   },
   "outputs": [],
   "source": []
  },
  {
   "cell_type": "code",
   "execution_count": 11,
   "metadata": {
    "collapsed": false
   },
   "outputs": [
    {
     "data": {
      "text/plain": [
       "<matplotlib.axes._subplots.AxesSubplot at 0x1074f1828>"
      ]
     },
     "execution_count": 11,
     "metadata": {},
     "output_type": "execute_result"
    }
   ],
   "source": [
    "# Now let's look at some data\n",
    "\n",
    "df.plot.scatter(x='WT_rep02',y='Snf2_rep02')"
   ]
  },
  {
   "cell_type": "code",
   "execution_count": 12,
   "metadata": {
    "collapsed": false
   },
   "outputs": [
    {
     "data": {
      "text/plain": [
       "<matplotlib.axes._subplots.AxesSubplot at 0x10758b048>"
      ]
     },
     "execution_count": 12,
     "metadata": {},
     "output_type": "execute_result"
    }
   ],
   "source": [
    "# most of the points are packed in a small range with only a few large values\n",
    "# most common way to get around this is a log plot\n",
    "\n",
    "\n",
    "df.plot.scatter(x='WT_rep02',y='Snf2_rep02',logx = True, logy= True)"
   ]
  },
  {
   "cell_type": "code",
   "execution_count": 13,
   "metadata": {
    "collapsed": false
   },
   "outputs": [
    {
     "data": {
      "text/plain": [
       "<matplotlib.axes._subplots.AxesSubplot at 0x1075b0b70>"
      ]
     },
     "execution_count": 13,
     "metadata": {},
     "output_type": "execute_result"
    }
   ],
   "source": [
    "# well that didn't help - now there are values that are too small\n",
    "# let's set lower and upper bounds for the plot\n",
    "\n",
    "lower = 10\n",
    "upper = max(df['WT_rep02'].max(),df['Snf2_rep02'].max())\n",
    "\n",
    "\n",
    "df.plot.scatter(x='WT_rep02',y='Snf2_rep02',logx = True, logy= True, xlim=(lower,upper), ylim=(lower,upper))"
   ]
  },
  {
   "cell_type": "code",
   "execution_count": 14,
   "metadata": {
    "collapsed": false
   },
   "outputs": [
    {
     "data": {
      "text/plain": [
       "<matplotlib.axes._subplots.AxesSubplot at 0x1a1978fe48>"
      ]
     },
     "execution_count": 14,
     "metadata": {},
     "output_type": "execute_result"
    }
   ],
   "source": [
    "#\n",
    "# do a few other things to make this pretty\n",
    "# make points smaller with s=1\n",
    "# set the figure size to be square\n",
    "#\n",
    "\n",
    "df.plot.scatter(x='WT_rep02',y='Snf2_rep02', s=1,logx = True, logy= True, xlim=(lower,upper), ylim=(lower,upper), figsize=(6,6))"
   ]
  },
  {
   "cell_type": "code",
   "execution_count": 15,
   "metadata": {
    "collapsed": false,
    "scrolled": false
   },
   "outputs": [
    {
     "name": "stderr",
     "output_type": "stream",
     "text": [
      "/Users/eisen/anaconda/lib/python3.5/site-packages/ipykernel/__main__.py:7: FutureWarning: 'pandas.tools.plotting.scatter_matrix' is deprecated, import 'pandas.plotting.scatter_matrix' instead.\n"
     ]
    }
   ],
   "source": [
    "# \n",
    "# we'd love to do this for all pairs of columns\n",
    "# let's start with a few\n",
    "#\n",
    "\n",
    "plot_columns = ['WT_rep01','WT_rep02','WT_rep03','Snf2_rep01','Snf2_rep02','Snf2_rep03']\n",
    "sm = scatter_matrix(df[plot_columns],s=1,figsize=(10,10),diagonal='kde')"
   ]
  },
  {
   "cell_type": "markdown",
   "metadata": {},
   "source": [
    "This quickly gets impossible to look at. So let's try something different. Instead of trying to look at every cell scatterplot, let's summarize each scatterplot with a number, say the correlation coefficient."
   ]
  },
  {
   "cell_type": "markdown",
   "metadata": {},
   "source": [
    "The paper discusses problems with individual samples. One way to screen for this in a sample that's so large is to look within the two sets for outliers."
   ]
  },
  {
   "cell_type": "code",
   "execution_count": 16,
   "metadata": {
    "collapsed": false
   },
   "outputs": [],
   "source": [
    "# get all columns\n",
    "\n",
    "colnames = df.columns.get_values()\n",
    "\n",
    "# create an empty matrix to store the correlations in\n",
    "\n",
    "corrdata = np.zeros( (len(colnames),len(colnames)))\n",
    "\n",
    "# loop through the columnames\n",
    "\n",
    "for i1,c1 in enumerate(colnames):\n",
    "    for i2,c2 in enumerate(colnames):\n",
    "        corrdata[i1][i2] = pearsonr(df[c1],df[c2])[0]\n",
    "        \n",
    "im = plt.imshow(corrdata)\n",
    "cb = plt.colorbar()"
   ]
  },
  {
   "cell_type": "markdown",
   "metadata": {},
   "source": [
    "### Colormaps\n",
    "\n",
    "This images are made by mapping a 2D array of values into colors by dividing values between the min and the max of array into bins and assigning each a color using a python colormap. You might not be a huge fan of this particular colormap. Well fear not! Python gives you lots of options. You can see them here https://matplotlib.org/tutorials/colors/colormaps.html."
   ]
  },
  {
   "cell_type": "code",
   "execution_count": 17,
   "metadata": {
    "collapsed": false,
    "scrolled": true
   },
   "outputs": [
    {
     "name": "stdout",
     "output_type": "stream",
     "text": [
      "Last plot made with cmap jet\n"
     ]
    }
   ],
   "source": [
    "print (\"Last plot made with cmap\", im.cmap.name)"
   ]
  },
  {
   "cell_type": "code",
   "execution_count": 18,
   "metadata": {
    "collapsed": false
   },
   "outputs": [],
   "source": [
    "# let's try again with magma\n",
    "\n",
    "im = plt.imshow(corrdata,cmap='magma')\n",
    "cb = plt.colorbar()"
   ]
  },
  {
   "cell_type": "markdown",
   "metadata": {},
   "source": [
    "### Removing outliers\n"
   ]
  },
  {
   "cell_type": "markdown",
   "metadata": {},
   "source": [
    "Can see from plot about that there are several problematic samples that have correlations that are outliars. How should we filter them? Simplest way would be to pick an average correlation to other samples as a cutoff. What should we choose? "
   ]
  },
  {
   "cell_type": "code",
   "execution_count": 19,
   "metadata": {
    "collapsed": false,
    "scrolled": false
   },
   "outputs": [],
   "source": [
    "#\n",
    "# Make a histogram of average correlation values\n",
    "#\n",
    "\n",
    "corrmeans = []\n",
    "for i1,c1 in enumerate(corrdata):\n",
    "    corrmeans.append(np.mean(c1))\n",
    "\n",
    "hist = plt.hist(corrmeans, bins=np.arange(0.5,1.0,.025))"
   ]
  },
  {
   "cell_type": "markdown",
   "metadata": {},
   "source": [
    "Most are above .95 so let's make that our cutoff"
   ]
  },
  {
   "cell_type": "code",
   "execution_count": 20,
   "metadata": {
    "collapsed": false
   },
   "outputs": [
    {
     "name": "stdout",
     "output_type": "stream",
     "text": [
      "Removing  Snf2_rep06 0.691487784223\n",
      "Removing  Snf2_rep13 0.803427905697\n",
      "Removing  Snf2_rep35 0.932471392569\n",
      "Removing  WT_rep21 0.764104671143\n",
      "Removing  WT_rep22 0.933839516889\n",
      "Removing  WT_rep25 0.86363576014\n",
      "Removing  WT_rep28 0.891720439048\n"
     ]
    }
   ],
   "source": [
    "colnames_filt = []\n",
    "for c1 in colnames:\n",
    "    d = []\n",
    "    for c2 in colnames:\n",
    "        d.append(pearsonr(df[c1],df[c2])[0])\n",
    "    d = np.array(d)\n",
    "    if np.mean(d) < 0.95:\n",
    "        print (\"Removing \",c1,np.mean(d))\n",
    "    else:\n",
    "        colnames_filt.append(c1)\n",
    "        \n",
    "colnames = colnames_filt"
   ]
  },
  {
   "cell_type": "code",
   "execution_count": 21,
   "metadata": {
    "collapsed": false,
    "scrolled": false
   },
   "outputs": [
    {
     "data": {
      "text/plain": [
       "<matplotlib.colorbar.Colorbar at 0x1a2c8b91d0>"
      ]
     },
     "execution_count": 21,
     "metadata": {},
     "output_type": "execute_result"
    }
   ],
   "source": [
    "# now replot \n",
    "\n",
    "corrdata = np.zeros( (len(colnames),len(colnames)))\n",
    "\n",
    "for i1,c1 in enumerate(colnames):\n",
    "    d = []\n",
    "    for i2,c2 in enumerate(colnames):\n",
    "        corrdata[i1][i2] = pearsonr(df[c1],df[c2])[0]\n",
    "        \n",
    "plt.imshow(corrdata,cmap='magma')\n",
    "plt.colorbar()"
   ]
  },
  {
   "cell_type": "markdown",
   "metadata": {},
   "source": [
    "Still some heterogeneity but looks a lot better - no egregious outliars - so we'll use this set"
   ]
  },
  {
   "cell_type": "markdown",
   "metadata": {},
   "source": [
    "### Question to think about: was this an ok thing to do?\n",
    "\n",
    "When is/isn't it ok to remove data that looks wonky, and how should you do it?"
   ]
  },
  {
   "cell_type": "markdown",
   "metadata": {},
   "source": [
    "Exercise 1: \n",
    "\n",
    "Let's imagine we did an experiment with no replicates - one sample per consdition. "
   ]
  },
  {
   "cell_type": "code",
   "execution_count": 22,
   "metadata": {
    "collapsed": false
   },
   "outputs": [
    {
     "data": {
      "text/plain": [
       "<matplotlib.collections.PathCollection at 0x1a2c8cec18>"
      ]
     },
     "execution_count": 22,
     "metadata": {},
     "output_type": "execute_result"
    }
   ],
   "source": [
    "# let's pick a pair of WT and snf2 experiments and see how they compare\n",
    "\n",
    "c1 = 'Snf2_rep01'\n",
    "c2 = 'WT_rep01'\n",
    "\n",
    "x = df[c1]\n",
    "y = df[c2]\n",
    "\n",
    "maxval = max(np.max(x),np.max(y))\n",
    "\n",
    "fig = plt.figure(figsize = (6,6))\n",
    "ax = fig.add_subplot(1,1,1)\n",
    "ax.set_xscale(\"log\", nonposx='clip')\n",
    "ax.set_yscale(\"log\", nonposx='clip')\n",
    "ax.set_xlim(1,maxval)\n",
    "ax.set_ylim(1,maxval)\n",
    "\n",
    "ax.scatter(x, y, s = 1, c='b', edgecolor = 'none')\n"
   ]
  },
  {
   "cell_type": "markdown",
   "metadata": {},
   "source": [
    "can already see a problem which is doesn't look like data fall along line x = y"
   ]
  },
  {
   "cell_type": "code",
   "execution_count": 31,
   "metadata": {
    "collapsed": false
   },
   "outputs": [
    {
     "data": {
      "text/plain": [
       "[<matplotlib.lines.Line2D at 0x1a2ce2f6a0>]"
      ]
     },
     "execution_count": 31,
     "metadata": {},
     "output_type": "execute_result"
    },
    {
     "data": {
      "image/png": "[encoded data removed]",
      "text/plain": [
       "<matplotlib.figure.Figure at 0x1a2cea2588>"
      ]
     },
     "metadata": {},
     "output_type": "display_data"
    }
   ],
   "source": [
    "# let's pick a pair of WT and snf2 experiments and see how they compare\n",
    "\n",
    "# how well do these fit?\n",
    "\n",
    "c1 = 'Snf2_rep01'\n",
    "c2 = 'WT_rep01'\n",
    "\n",
    "# select data, remove really low values\n",
    "\n",
    "x = df[c1]\n",
    "y = df[c2]\n",
    "\n",
    "fig = plt.figure(figsize = (6,6))\n",
    "ax = fig.add_subplot(1,1,1)\n",
    "ax.set_xlim(1,maxval)\n",
    "ax.set_ylim(1,maxval)\n",
    "ax.set_xscale(\"log\", nonposx='clip')\n",
    "ax.set_yscale(\"log\", nonposx='clip')\n",
    "ax.scatter(x, y, s = 1, c = 'black', edgecolor = 'none')\n",
    "ax.plot(x,x,'r-')"
   ]
  },
  {
   "cell_type": "markdown",
   "metadata": {},
   "source": [
    "Yikes!! Data should fall along line. We will return to this issue in a little bit but for now let's try another pair of samples.'"
   ]
  },
  {
   "cell_type": "code",
   "execution_count": 24,
   "metadata": {
    "collapsed": false
   },
   "outputs": [
    {
     "data": {
      "text/plain": [
       "[<matplotlib.lines.Line2D at 0x1a2ca82c88>]"
      ]
     },
     "execution_count": 24,
     "metadata": {},
     "output_type": "execute_result"
    }
   ],
   "source": [
    "# let's pick a pair of WT and snf2 experiments and see how they compare\n",
    "\n",
    "# how well do these fit?\n",
    "\n",
    "c1 = 'Snf2_rep02'\n",
    "c2 = 'WT_rep02'\n",
    "\n",
    "# select data, remove really low values\n",
    "\n",
    "x = df[c1]\n",
    "y = df[c2]\n",
    "\n",
    "fig = plt.figure(figsize = (6,6))\n",
    "ax = fig.add_subplot(1,1,1)\n",
    "ax.set_xlim(1,maxval)\n",
    "ax.set_ylim(1,maxval)\n",
    "ax.set_xscale(\"log\", nonposx='clip')\n",
    "ax.set_yscale(\"log\", nonposx='clip')\n",
    "ax.scatter(x, y, s = 1, c = 'black', edgecolor = 'none')\n",
    "ax.plot(x,x,'r-')"
   ]
  },
  {
   "cell_type": "markdown",
   "metadata": {},
   "source": [
    "Not perfect, but a lot better. So now, how do we identify outliers? Many people start by saying genes up or down 2x. So let's look at those."
   ]
  },
  {
   "cell_type": "code",
   "execution_count": 25,
   "metadata": {
    "collapsed": false
   },
   "outputs": [
    {
     "data": {
      "text/plain": [
       "[<matplotlib.lines.Line2D at 0x1a2cad6860>]"
      ]
     },
     "execution_count": 25,
     "metadata": {},
     "output_type": "execute_result"
    }
   ],
   "source": [
    "# pair to compare\n",
    "\n",
    "c1 = 'Snf2_rep02'\n",
    "c2 = 'WT_rep02'\n",
    "\n",
    "# select data, remove really low values\n",
    "\n",
    "x = df[c1][(df[c1] > 1) & (df[c2] > 1)] # throw out really small values\n",
    "y = df[c2][(df[c1] > 1) & (df[c2] > 1)]\n",
    "\n",
    "# set color and size of points based on X/Y ratio\n",
    "\n",
    "c = []\n",
    "s = []\n",
    "\n",
    "for i,vx in enumerate(x):    \n",
    "    if x[i]/y[i] > 2.0:\n",
    "        c.append('g')\n",
    "        s.append(3)\n",
    "    elif x[i]/y[i] < .5:\n",
    "        c.append('b')\n",
    "        s.append(3)\n",
    "    else:\n",
    "        c.append('k')\n",
    "        s.append(1)\n",
    "\n",
    "fig = plt.figure(figsize = (6,6))\n",
    "ax = fig.add_subplot(1,1,1)\n",
    "ax.set_xlim(1,maxval)\n",
    "ax.set_ylim(1,maxval)\n",
    "ax.set_xscale(\"log\", nonposx='clip')\n",
    "ax.set_yscale(\"log\", nonposx='clip')\n",
    "ax.scatter(x, y, s = s, c = c, edgecolor = 'none')\n",
    "ax.plot(x,x,'r-')"
   ]
  },
  {
   "cell_type": "markdown",
   "metadata": {},
   "source": [
    "That's quite a lot of points! Should we believe them? Fortunately we can sanity check this because we actually have a lot more data. Let's start by comparing the Snf2/WT ratio in this pair of samples to a different pair. "
   ]
  },
  {
   "cell_type": "code",
   "execution_count": 26,
   "metadata": {
    "collapsed": false
   },
   "outputs": [
    {
     "data": {
      "text/plain": [
       "<matplotlib.collections.PathCollection at 0x1a2cc99550>"
      ]
     },
     "execution_count": 26,
     "metadata": {},
     "output_type": "execute_result"
    }
   ],
   "source": [
    "wt1 = 'WT_rep02'\n",
    "wt2 = 'WT_rep03'\n",
    "mut1 = 'Snf2_rep02'\n",
    "mut2 = 'Snf2_rep03'\n",
    "\n",
    "cols = [wt1,wt2,mut1,mut2]\n",
    "\n",
    "# create a temporary data frame where any row with values < 1 are removed\n",
    "\n",
    "tdf = df[cols][df > 1].dropna()\n",
    "\n",
    "x = np.log2(tdf[wt1]/tdf[mut1])\n",
    "y = np.log2(tdf[wt2]/tdf[mut2])\n",
    "\n",
    "c = []\n",
    "s = []\n",
    "\n",
    "for i,vx in enumerate(x):    \n",
    "    if x[i] > 1.0: \n",
    "        if y[i] > 1.0:\n",
    "            c.append('g')\n",
    "            s.append(8)\n",
    "        else:\n",
    "            c.append('r')\n",
    "            s.append(8)\n",
    "    elif x[i] < -1.0:\n",
    "        if y[i] < -1.0:\n",
    "            c.append('g')\n",
    "            s.append(8)\n",
    "        else:\n",
    "            c.append('r')\n",
    "            s.append(8)\n",
    "    else:\n",
    "        c.append('k')\n",
    "        s.append(1)\n",
    "\n",
    "fig = plt.figure(figsize = (6,6))\n",
    "ax = fig.add_subplot(1,1,1)\n",
    "ax.set_xlim(-3,3)\n",
    "ax.set_ylim(-3,3)\n",
    "ax.scatter(x, y, s = s, c = c, edgecolor = 'none')\n",
    "#ax.plot(x,x,'r-')"
   ]
  },
  {
   "cell_type": "markdown",
   "metadata": {},
   "source": [
    "Clearly we need more than just one or two samples to accurately identify reproducible differences between samples. But how many do we need?"
   ]
  },
  {
   "cell_type": "code",
   "execution_count": 27,
   "metadata": {
    "collapsed": true
   },
   "outputs": [],
   "source": [
    "# now create lists for WT and Snf2 so we can start comparing them\n",
    "\n",
    "colnames_snf2 = []\n",
    "colnames_WT = []\n",
    "\n",
    "for c in colnames:\n",
    "    if c.startswith(\"Snf2\"):\n",
    "        colnames_snf2.append(c)\n",
    "    elif c.startswith(\"WT\"):\n",
    "        colnames_WT.append(c)"
   ]
  },
  {
   "cell_type": "code",
   "execution_count": 28,
   "metadata": {
    "collapsed": true
   },
   "outputs": [],
   "source": [
    "# create new columns that are averages\n",
    "\n",
    "df['Snf2_ave'] = df[colnames_snf2].mean(axis=1)\n",
    "df['WT_ave'] = df[colnames_WT].mean(axis=1)\n",
    "df['ave'] = df[colnames_snf2 + colnames_WT].mean(axis=1)"
   ]
  },
  {
   "cell_type": "code",
   "execution_count": null,
   "metadata": {
    "collapsed": false,
    "scrolled": false
   },
   "outputs": [],
   "source": [
    "# pair to compare\n",
    "\n",
    "c1 = 'WT_ave' \n",
    "c2 = 'Snf2_ave'\n",
    "\n",
    "# select data, remove really low values\n",
    "\n",
    "x = df[c1][(df[c1] > 1) & (df[c2] > 1)] # throw out really small values\n",
    "y = df[c2][(df[c1] > 1) & (df[c2] > 1)]\n",
    "\n",
    "# set color and size of points based on X/Y ratio\n",
    "\n",
    "c = []\n",
    "s = []\n",
    "\n",
    "for i,vx in enumerate(x):    \n",
    "    if x[i]/y[i] > 2.0:\n",
    "        c.append('g')\n",
    "        s.append(3)\n",
    "    elif x[i]/y[i] < .5:\n",
    "        c.append('b')\n",
    "        s.append(3)\n",
    "    else:\n",
    "        c.append('k')\n",
    "        s.append(1)\n",
    "\n",
    "fig = plt.figure(figsize = (6,6))\n",
    "ax = fig.add_subplot(1,1,1)\n",
    "ax.set_xlim(1,maxval)\n",
    "ax.set_ylim(1,maxval)\n",
    "ax.set_xscale(\"log\", nonposx='clip')\n",
    "ax.set_yscale(\"log\", nonposx='clip')\n",
    "ax.set_xlabel(c1)\n",
    "ax.set_ylabel(c2)\n",
    "ax.scatter(x, y, s = s, c = c, edgecolor = 'none')\n",
    "ax.plot(x,x,'r-')"
   ]
  },
  {
   "cell_type": "markdown",
   "metadata": {},
   "source": [
    "### Looking at individual genes\n",
    "\n",
    "Now we are going to start looking at individual genes. The first thing we're doing to do is sort based on the magnitude of the ratio between the WT and Snf2 averages and then plot the individual values."
   ]
  },
  {
   "cell_type": "code",
   "execution_count": null,
   "metadata": {
    "collapsed": false,
    "scrolled": false
   },
   "outputs": [],
   "source": [
    "# Sort based ratio of snf2 ave vs wt ave\n",
    "\n",
    "aved = {}\n",
    "\n",
    "cols = ['WT_ave','Snf2_ave']\n",
    "tdf = df[cols][df > 10].dropna()\n",
    "\n",
    "for index, row in tdf.iterrows():\n",
    "    snf2 = row['Snf2_ave']\n",
    "    wt = row['WT_ave']\n",
    "    aved[index] = abs(np.log2(snf2/wt))\n",
    "    \n",
    "aved = {k:v for (k,v) in aved.items() if v > 1.0}\n",
    "\n",
    "aveds = sorted(aved.keys(),key = lambda x: aved[x], reverse=True)\n",
    "\n",
    "snf2_ind = []\n",
    "snf2 = []\n",
    "wt_ind = [] \n",
    "wt = []\n",
    "\n",
    "for i,t in enumerate(aveds[0:100]):\n",
    "    for c in colnames_snf2:\n",
    "        snf2_ind.append(i+1)\n",
    "        snf2.append(df.at[t,c])\n",
    "    for c in colnames_WT:\n",
    "        wt_ind.append(i+1)\n",
    "        wt.append(df.at[t,c])\n",
    "        \n",
    "fig = plt.figure(figsize = (10,.1*max(wt_ind)))\n",
    "ax = fig.add_subplot(1,1,1)\n",
    "ax.set_xlim(1,max(wt + snf2))\n",
    "ax.set_ylim(max(wt_ind),0)\n",
    "ax.set_xscale(\"log\", nonposx='clip')\n",
    "ax.scatter(wt,wt_ind,s=12,alpha=.25,c='r',edgecolor='none')\n",
    "ax.scatter(snf2,snf2_ind,s=12,alpha=.25,c='b',edgecolor='none')"
   ]
  },
  {
   "cell_type": "code",
   "execution_count": null,
   "metadata": {
    "collapsed": true
   },
   "outputs": [],
   "source": [
    "# maybe median is a better value\n",
    "\n",
    "df['Snf2_med'] = df[colnames_snf2].median(axis=1)\n",
    "df['WT_med'] = df[colnames_WT].median(axis=1)\n",
    "df['med'] = df[colnames_snf2 + colnames_WT].median(axis=1)"
   ]
  },
  {
   "cell_type": "code",
   "execution_count": null,
   "metadata": {
    "collapsed": false,
    "scrolled": false
   },
   "outputs": [],
   "source": [
    "# Sort based ratio of snf2 ave vs wt ave\n",
    "\n",
    "aved = {}\n",
    "\n",
    "cols = ['WT_med','Snf2_med']\n",
    "tdf = df[cols][df > 10].dropna()\n",
    "\n",
    "for index, row in tdf.iterrows():\n",
    "    snf2 = row['Snf2_med']\n",
    "    wt = row['WT_med']\n",
    "    aved[index] = abs(np.log2(snf2/wt))\n",
    "    \n",
    "aved = {k:v for (k,v) in aved.items() if v > 1.0}\n",
    "\n",
    "aveds = sorted(aved.keys(),key = lambda x: aved[x], reverse=True)\n",
    "\n",
    "snf2_ind = []\n",
    "snf2 = []\n",
    "wt_ind = [] \n",
    "wt = []\n",
    "\n",
    "for i,t in enumerate(aveds[0:100]):\n",
    "    for c in colnames_snf2:\n",
    "        snf2_ind.append(i+1)\n",
    "        snf2.append(df.at[t,c])\n",
    "    for c in colnames_WT:\n",
    "        wt_ind.append(i+1)\n",
    "        wt.append(df.at[t,c])\n",
    "        \n",
    "fig = plt.figure(figsize = (10,.1*max(wt_ind)))\n",
    "ax = fig.add_subplot(1,1,1)\n",
    "ax.set_xlim(1,max(wt + snf2))\n",
    "ax.set_ylim(max(wt_ind),0)\n",
    "ax.set_xscale(\"log\", nonposx='clip')\n",
    "ax.scatter(wt,wt_ind,s=12,alpha=.25,c='r',edgecolor='none')\n",
    "ax.scatter(snf2,snf2_ind,s=12,alpha=.25,c='b',edgecolor='none')"
   ]
  },
  {
   "cell_type": "code",
   "execution_count": null,
   "metadata": {
    "collapsed": false,
    "scrolled": false
   },
   "outputs": [],
   "source": [
    "# lets look at individual genes a bit closer\n",
    "\n",
    "gene = aveds[0]\n",
    "\n",
    "snf2 = []\n",
    "wt = []\n",
    "\n",
    "\n",
    "for c in colnames_snf2:\n",
    "    snf2.append(df.at[gene,c])\n",
    "for c in colnames_WT:\n",
    "    wt.append(df.at[gene,c])\n",
    "        \n",
    "h = plt.hist(wt, color = 'blue',label='WT')\n",
    "h = plt.hist(snf2, color = 'red',label='SNF2')\n",
    "plt.legend()"
   ]
  },
  {
   "cell_type": "code",
   "execution_count": null,
   "metadata": {
    "collapsed": false
   },
   "outputs": [],
   "source": [
    "print (aveds[0])"
   ]
  },
  {
   "cell_type": "code",
   "execution_count": null,
   "metadata": {
    "collapsed": false
   },
   "outputs": [],
   "source": [
    "# log transform values\n",
    "\n",
    "gene = aveds[0]\n",
    "\n",
    "snf2 = []\n",
    "wt = []\n",
    "\n",
    "\n",
    "for c in colnames_snf2:\n",
    "    snf2.append(np.log10(df.at[gene,c]))\n",
    "for c in colnames_WT:\n",
    "    wt.append(np.log10(df.at[gene,c]))\n",
    "        \n",
    "h = plt.hist(wt,color = 'blue',label='WT')\n",
    "h = plt.hist(snf2,color = 'red',label='SNF2')\n",
    "plt.legend()"
   ]
  },
  {
   "cell_type": "code",
   "execution_count": null,
   "metadata": {
    "collapsed": false,
    "scrolled": true
   },
   "outputs": [],
   "source": [
    "# log transform values\n",
    "\n",
    "gene = aveds[0]\n",
    "\n",
    "snf2 = []\n",
    "wt = []\n",
    "\n",
    "\n",
    "for c in colnames_snf2:\n",
    "    snf2.append(np.log2(df.at[gene,c]/df.at[gene,'Snf2_ave']))\n",
    "for c in colnames_WT:\n",
    "    wt.append(np.log2(df.at[gene,c]/df.at[gene,'WT_ave']))\n",
    "        \n",
    "h = plt.hist(wt, bins=np.arange(-3.00,3.00,0.5), color = 'blue',label='WT',alpha=0.25)\n",
    "h = plt.hist(snf2,bins=np.arange(-3.00,3.00,0.5), color = 'red',label='SNF2',alpha=0.25)\n",
    "plt.legend()"
   ]
  },
  {
   "cell_type": "code",
   "execution_count": null,
   "metadata": {
    "collapsed": false,
    "scrolled": true
   },
   "outputs": [],
   "source": [
    "# do the data fit a normal distribution and do we have enough data to do a fit\n",
    "\n",
    "gene = aveds[0]\n",
    "\n",
    "snf2 = []\n",
    "wt = []\n",
    "\n",
    "for c in colnames_snf2:\n",
    "    snf2.append(df.at[gene,c])\n",
    "for c in colnames_WT:\n",
    "    wt.append(df.at[gene,c])\n",
    "\n",
    "# Fit a normal distribution to the data:\n",
    "wt_mu, wt_std = norm.fit(wt)\n",
    "snf2_mu, snf2_std = norm.fit(snf2)\n",
    "\n",
    "ax = plt.subplot(2, 1, 1)\n",
    "plt.hist(wt, bins=15, normed=True, alpha=0.6, color='blue')\n",
    "xmin, xmax = plt.xlim()\n",
    "x = np.linspace(xmin, xmax, 100)\n",
    "p = norm.pdf(x, wt_mu, wt_std)\n",
    "plt.plot(x, p, 'k', linewidth=2)\n",
    "title = \"Fit results: mu = %.2f,  std = %.2f\" % (wt_mu, wt_std)\n",
    "plt.title(title)\n",
    "\n",
    "ax = plt.subplot(2, 1, 2)\n",
    "plt.hist(snf2, bins=15, normed=True, alpha=0.6, color='blue')\n",
    "xmin, xmax = plt.xlim()\n",
    "x = np.linspace(xmin, xmax, 100)\n",
    "p = norm.pdf(x, snf2_mu, snf2_std)\n",
    "plt.plot(x, p, 'k', linewidth=2)\n",
    "title = \"Fit results: mu = %.2f,  std = %.2f\" % (snf2_mu, snf2_std)\n",
    "plt.title(title)\n",
    "\n",
    "plt.tight_layout()\n",
    "plt.show()"
   ]
  },
  {
   "cell_type": "code",
   "execution_count": null,
   "metadata": {
    "collapsed": false
   },
   "outputs": [],
   "source": [
    "# do the data fit a normal distribution and do we have enough data to do a fit\n",
    "\n",
    "gene = aveds[0]\n",
    "\n",
    "snf2 = []\n",
    "wt = []\n",
    "\n",
    "for c in colnames_snf2:\n",
    "    snf2.append(df.at[gene,c])\n",
    "for c in colnames_WT:\n",
    "    wt.append(df.at[gene,c])\n",
    "\n",
    "# Fit a normal distribution to the data:\n",
    "wt_std, loc, wt_mean = mu, loc, mean = lognorm.fit(wt, floc=0)\n",
    "snf2_std, loc, snf2_mean = lognorm.fit(snf2, floc=0)\n",
    "\n",
    "ax = plt.subplot(2, 1, 1)\n",
    "plt.hist(wt, bins=15, normed=True, alpha=0.6, color='blue')\n",
    "xmin, xmax = plt.xlim()\n",
    "x = np.linspace(xmin, xmax, 100)\n",
    "p = lognorm.pdf(x, wt_mu, wt_std)\n",
    "plt.plot(x, p, 'k', linewidth=2)\n",
    "title = \"Fit results: mu = %.2f,  std = %.2f\" % (wt_mu, wt_std)\n",
    "plt.title(title)\n",
    "\n",
    "ax = plt.subplot(2, 1, 2)\n",
    "plt.hist(snf2, bins=15, normed=True, alpha=0.6, color='blue')\n",
    "xmin, xmax = plt.xlim()\n",
    "x = np.linspace(xmin, xmax, 100)\n",
    "p = lognorm.pdf(x, snf2_mu, snf2_std)\n",
    "plt.plot(x, p, 'k', linewidth=2)\n",
    "title = \"Fit results: mu = %.2f,  std = %.2f\" % (snf2_mu, snf2_std)\n",
    "plt.title(title)\n",
    "\n",
    "plt.tight_layout()\n",
    "plt.show()"
   ]
  },
  {
   "cell_type": "markdown",
   "metadata": {},
   "source": [
    "### Now it's time to do some statistics\n",
    "\n",
    "Probably better to treat this as a non-parametric test. The test most commonly used to ask if two distributions are different is the Kolmogorov-Smirnov test. https://en.wikipedia.org/wiki/Kolmogorov%E2%80%93Smirnov_test\n"
   ]
  },
  {
   "cell_type": "code",
   "execution_count": null,
   "metadata": {
    "collapsed": false
   },
   "outputs": [],
   "source": [
    "# do the data fit a normal distribution and do we have enough data to do a fit\n",
    "\n",
    "gene = aveds[0]\n",
    "\n",
    "snf2 = []\n",
    "wt = []\n",
    "\n",
    "for c in colnames_snf2:\n",
    "    snf2.append(df.at[gene,c])\n",
    "for c in colnames_WT:\n",
    "    wt.append(df.at[gene,c])\n",
    "    \n",
    "print(ks_2samp(wt,snf2))"
   ]
  },
  {
   "cell_type": "code",
   "execution_count": null,
   "metadata": {
    "collapsed": false
   },
   "outputs": [],
   "source": [
    "# do the data fit a normal distribution and do we have enough data to do a fit\n",
    "\n",
    "gene = aveds[0]\n",
    "\n",
    "snf2 = []\n",
    "wt = []\n",
    "\n",
    "for c in colnames_snf2:\n",
    "    snf2.append(df.at[gene,c])\n",
    "for c in colnames_WT:\n",
    "    wt.append(df.at[gene,c])\n",
    "    \n",
    "print(ks_2samp(wt,snf2))"
   ]
  },
  {
   "cell_type": "code",
   "execution_count": null,
   "metadata": {
    "collapsed": true
   },
   "outputs": [],
   "source": [
    "ksv = {}\n",
    "\n",
    "for index, row in df.iterrows():\n",
    "    snf2 = row[colnames_snf2]\n",
    "    wt = row[colnames_WT]\n",
    "    ksv[index] = -np.log10(ks_2samp(wt,snf2)[1])"
   ]
  },
  {
   "cell_type": "code",
   "execution_count": null,
   "metadata": {
    "collapsed": false,
    "scrolled": true
   },
   "outputs": [],
   "source": [
    "#ksv = {k:v for (k,v) in ksv.items() if v > 10.0}\n",
    "\n",
    "ksvs = sorted(ksv.keys(),key = lambda x: ksv[x], reverse=True)\n",
    "\n",
    "snf2_ind = []\n",
    "snf2 = []\n",
    "wt_ind = [] \n",
    "wt = []\n",
    "\n",
    "for i,t in enumerate(ksvs[0:100]):\n",
    "    for c in colnames_snf2:\n",
    "        snf2_ind.append(i+1)\n",
    "        snf2.append(df.at[t,c])\n",
    "    for c in colnames_WT:\n",
    "        wt_ind.append(i+1)\n",
    "        wt.append(df.at[t,c])\n",
    "        \n",
    "fig = plt.figure(figsize = (10,.1*max(wt_ind)))\n",
    "ax = fig.add_subplot(1,1,1)\n",
    "ax.set_xlim(1,max(wt + snf2))\n",
    "ax.set_ylim(max(wt_ind),0)\n",
    "ax.set_xscale(\"log\", nonposx='clip')\n",
    "ax.scatter(wt,wt_ind,s=12,alpha=.25,c='r',edgecolor='none')\n",
    "ax.scatter(snf2,snf2_ind,s=12,alpha=.25,c='b',edgecolor='none')"
   ]
  },
  {
   "cell_type": "code",
   "execution_count": null,
   "metadata": {
    "collapsed": true
   },
   "outputs": [],
   "source": []
  },
  {
   "cell_type": "code",
   "execution_count": null,
   "metadata": {
    "collapsed": false
   },
   "outputs": [],
   "source": [
    "replicates = 100000\n",
    "m1 = 1000\n",
    "m2 = 500\n",
    "v = .29\n",
    "\n",
    "wt = np.random.lognormal(np.log(m1),v,replicates)\n",
    "mut = np.random.lognormal(np.log(m2),v,replicates)\n",
    "\n",
    "ks_2samp(wt,mut)"
   ]
  },
  {
   "cell_type": "code",
   "execution_count": null,
   "metadata": {
    "collapsed": false
   },
   "outputs": [],
   "source": [
    "x = plt.hist(np.log(wt),bins=50,alpha=0.5,normed=True)\n",
    "x = plt.hist(np.log(mut),bins=50,alpha=0.5,normed=True)"
   ]
  },
  {
   "cell_type": "code",
   "execution_count": null,
   "metadata": {
    "collapsed": true
   },
   "outputs": [],
   "source": [
    "\n",
    "#\n",
    "# lets look at the effect of changing the number of experiments we did\n",
    "#\n",
    "\n",
    "pvals = {}\n",
    "\n",
    "trials = 100\n",
    "\n",
    "sample_sizes = [5,10,15,20,25,30,35,40,45,50]\n",
    "sample_sizes = [2,3,4,5,6,7,8,9,10,15,20]\n",
    "for n in sample_sizes:\n",
    "    pvals[n] = []\n",
    "    for t in range(0,trials):\n",
    "        wtr = np.random.choice(wt,n)\n",
    "        mutr = np.random.choice(mut,n)\n",
    "        pvals[n].append(-np.log10(ks_2samp(wtr,mutr)[1]))\n",
    "    "
   ]
  },
  {
   "cell_type": "code",
   "execution_count": null,
   "metadata": {
    "collapsed": false
   },
   "outputs": [],
   "source": [
    "fig, axes = plt.subplots()\n",
    "\n",
    "axes.violinplot(dataset = [pvals[v] for v in sample_sizes])\n",
    "axes.set_title('')\n",
    "axes.yaxis.grid(False)\n",
    "axes.set_xlabel('Sample Size')\n",
    "axes.set_ylabel('KS p-values')\n",
    "a = plt.xticks(range(1,len(sample_sizes)+1),sample_sizes)"
   ]
  },
  {
   "cell_type": "code",
   "execution_count": null,
   "metadata": {
    "collapsed": true
   },
   "outputs": [],
   "source": []
  }
 ],
 "metadata": {
  "anaconda-cloud": {},
  "kernelspec": {
   "display_name": "Python [Root]",
   "language": "python",
   "name": "Python [Root]"
  },
  "language_info": {
   "codemirror_mode": {
    "name": "ipython",
    "version": 3
   },
   "file_extension": ".py",
   "mimetype": "text/x-python",
   "name": "python",
   "nbconvert_exporter": "python",
   "pygments_lexer": "ipython3",
   "version": "3.5.2"
  }
 },
 "nbformat": 4,
 "nbformat_minor": 1
}
