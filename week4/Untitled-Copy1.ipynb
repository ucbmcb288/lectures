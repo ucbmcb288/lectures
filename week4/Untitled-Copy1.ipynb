{
 "cells": [
  {
   "cell_type": "code",
   "execution_count": 1,
   "metadata": {
    "collapsed": false
   },
   "outputs": [],
   "source": [
    "%matplotlib inline\n",
    "\n",
    "import warnings; warnings.simplefilter('ignore')"
   ]
  },
  {
   "cell_type": "code",
   "execution_count": 42,
   "metadata": {
    "collapsed": false
   },
   "outputs": [],
   "source": [
    "import pandas as pd\n",
    "import os\n",
    "import matplotlib.pyplot as plt\n",
    "import numpy as np\n",
    "import math\n",
    "\n",
    "from functools import reduce\n",
    "\n",
    "from scipy.stats.stats import pearsonr\n",
    "from scipy import stats\n",
    "from scipy.stats import ks_2samp\n",
    "from scipy.stats import entropy\n",
    "from scipy.stats import norm\n",
    "from scipy.stats import lognorm\n",
    "from scipy.stats import nbinom\n",
    "from scipy.cluster import hierarchy\n",
    "from scipy.cluster.hierarchy import average\n",
    "from scipy.cluster.hierarchy import dendrogram\n",
    "from scipy.spatial.distance import cosine\n",
    "from scipy.spatial.distance import pdist\n",
    "from scipy.spatial.distance import squareform\n",
    "from scipy.stats.mstats import gmean\n",
    "\n",
    "import statsmodels.api as sm\n",
    "lowess = sm.nonparametric.lowess\n",
    "\n",
    "import sklearn\n",
    "import sklearn.preprocessing\n",
    "from sklearn.cluster import AgglomerativeClustering\n",
    "from sklearn.cluster import KMeans\n",
    "from sklearn.cluster import DBSCAN\n",
    "from sklearn.manifold import TSNE\n",
    "\n",
    "from matplotlib.colors import LinearSegmentedColormap\n",
    "\n",
    "import seaborn as sns\n",
    "\n",
    "from sklearn import svm\n",
    "from sklearn.datasets import make_moons, make_circles, make_classification\n",
    "from sklearn.datasets import samples_generator\n",
    "from sklearn.discriminant_analysis import QuadraticDiscriminantAnalysis\n",
    "from sklearn.ensemble import RandomForestClassifier\n",
    "from sklearn.ensemble import RandomForestClassifier, AdaBoostClassifier\n",
    "from sklearn.feature_selection import SelectKBest\n",
    "from sklearn.feature_selection import f_regression\n",
    "from sklearn.gaussian_process import GaussianProcessClassifier\n",
    "from sklearn.gaussian_process.kernels import RBF\n",
    "from sklearn.linear_model import LogisticRegression\n",
    "from sklearn.manifold import MDS\n",
    "from sklearn.metrics import confusion_matrix\n",
    "from sklearn.model_selection import train_test_split\n",
    "from sklearn.model_selection import train_test_split\n",
    "from sklearn.naive_bayes import GaussianNB\n",
    "from sklearn.naive_bayes import GaussianNB\n",
    "from sklearn.naive_bayes import MultinomialNB\n",
    "from sklearn.neighbors import KNeighborsClassifier\n",
    "from sklearn.neural_network import MLPClassifier\n",
    "from sklearn.pipeline import Pipeline\n",
    "from sklearn.preprocessing import StandardScaler\n",
    "from sklearn.preprocessing import normalize\n",
    "from sklearn.preprocessing import Normalizer\n",
    "from sklearn.svm import SVC\n",
    "from sklearn.tree import DecisionTreeClassifier\n",
    "from sklearn.linear_model import Lasso\n",
    "from sklearn.decomposition import PCA\n",
    "from sklearn.model_selection import LeaveOneOut"
   ]
  },
  {
   "cell_type": "code",
   "execution_count": 3,
   "metadata": {
    "collapsed": true
   },
   "outputs": [],
   "source": [
    "bases = ['A','C','G','T']"
   ]
  },
  {
   "cell_type": "code",
   "execution_count": 4,
   "metadata": {
    "collapsed": false
   },
   "outputs": [],
   "source": [
    "f = open(\"hgdp/HGDP_FinalReport_Forward.txt\")\n",
    "of = open(\"hgdp/hgdp_num.txt\",\"w\")\n",
    "\n",
    "head = f.readline()\n",
    "for l in f:\n",
    "    l = l.split(\"\\t\",1)\n",
    "    c = []\n",
    "    for b in bases:\n",
    "        c.append(l[1].count(b))\n",
    "    cs = np.argsort(c)[::-1]\n",
    "    \n",
    "    if c[cs[1]] > 0 and c[cs[2]] == 0:\n",
    "        b1 = bases[cs[0]]\n",
    "        b2 = bases[cs[1]]\n",
    "        nd = l[1].replace(b1+b1,\"0\").replace(b1+b2,\"1\").replace(b2+b1,\"1\").replace(b2+b2,\"2\").replace(\"--\",\"-1\")\n",
    "        of.write(\"%s\\t%s\" % (l[0],nd))\n",
    "        \n",
    "f.close()\n",
    "of.close()\n",
    "    \n"
   ]
  },
  {
   "cell_type": "code",
   "execution_count": 5,
   "metadata": {
    "collapsed": false
   },
   "outputs": [],
   "source": [
    "hc = [\"SNP\"] + head.split(\"\\t\")[1:]\n",
    "\n",
    "hgdp = pd.read_csv(\"hgdp/hgdp_num.txt\", sep = \"\\t\", names = hc)"
   ]
  },
  {
   "cell_type": "code",
   "execution_count": 6,
   "metadata": {
    "collapsed": false
   },
   "outputs": [],
   "source": [
    "hgdp_datacols = hgdp.columns[1:]"
   ]
  },
  {
   "cell_type": "code",
   "execution_count": 17,
   "metadata": {
    "collapsed": true
   },
   "outputs": [],
   "source": [
    "locdf = pd.read_csv(\"hgdp/hgdp_pop.txt\",sep=\"\\t\")\n",
    "locdf = locdf.set_index(\"ID\")"
   ]
  },
  {
   "cell_type": "code",
   "execution_count": 31,
   "metadata": {
    "collapsed": false
   },
   "outputs": [],
   "source": [
    "hgdp_loccols = []\n",
    "hgdp_loc = []\n",
    "for c in hgdp_datacols:\n",
    "    if c in locdf.index:\n",
    "        hgdp_loccols.append(c)\n",
    "        r = locdf.loc[c]\n",
    "        hgdp_loc.append(r['Region'])"
   ]
  },
  {
   "cell_type": "code",
   "execution_count": 41,
   "metadata": {
    "collapsed": false
   },
   "outputs": [],
   "source": [
    "lc = {'AFRICA' : 'red', 'AMERICA' : 'green', 'CENTRAL_SOUTH_ASIA' : 'blue', 'EAST_ASIA' : 'purple', 'EUROPE' : 'black',\n",
    "       'MIDDLE_EAST' : 'orange', 'OCEANIA' : 'brown'}\n",
    "\n",
    "li = {'AFRICA' : 0, 'AMERICA' : 1, 'CENTRAL_SOUTH_ASIA' : 2, 'EAST_ASIA' : 3, 'EUROPE' : 4,\n",
    "       'MIDDLE_EAST' : 5, 'OCEANIA' : 6}\n",
    "\n",
    "\n",
    "plotc = []\n",
    "y = []\n",
    "\n",
    "for r in hgdp_loc:\n",
    "    plotc.append(lc[r])\n",
    "    y.append(li[r])\n",
    "    \n",
    "    "
   ]
  },
  {
   "cell_type": "code",
   "execution_count": 36,
   "metadata": {
    "collapsed": false
   },
   "outputs": [],
   "source": [
    "X = hgdp[hgdp_loccols].values"
   ]
  },
  {
   "cell_type": "code",
   "execution_count": 37,
   "metadata": {
    "collapsed": true
   },
   "outputs": [],
   "source": [
    "XX = X.T"
   ]
  },
  {
   "cell_type": "code",
   "execution_count": null,
   "metadata": {
    "collapsed": true
   },
   "outputs": [],
   "source": []
  },
  {
   "cell_type": "code",
   "execution_count": 38,
   "metadata": {
    "collapsed": false
   },
   "outputs": [],
   "source": [
    "X_embedded = TSNE(n_components=2).fit_transform(XX)"
   ]
  },
  {
   "cell_type": "code",
   "execution_count": 40,
   "metadata": {
    "collapsed": false
   },
   "outputs": [
    {
     "data": {
      "text/plain": [
       "<matplotlib.collections.PathCollection at 0x1c462e1780>"
      ]
     },
     "execution_count": 40,
     "metadata": {},
     "output_type": "execute_result"
    },
    {
     "data": {
      "image/png": "[encoded data removed]",
      "text/plain": [
       "<matplotlib.figure.Figure at 0x1c3a0248d0>"
      ]
     },
     "metadata": {},
     "output_type": "display_data"
    }
   ],
   "source": [
    "fig,ax = plt.subplots(1,1,figsize=(8,8))\n",
    "ax.scatter(X_embedded[:,0],X_embedded[:,1], c=plotc)"
   ]
  },
  {
   "cell_type": "code",
   "execution_count": 44,
   "metadata": {
    "collapsed": false
   },
   "outputs": [
    {
     "name": "stdout",
     "output_type": "stream",
     "text": [
      "Score:  0.666666666667\n"
     ]
    }
   ],
   "source": [
    "X_train, X_test, y_train, y_test = train_test_split(XX,y)\n",
    "\n",
    "clf = GaussianNB()\n",
    "clf.fit(X_train,y_train)\n",
    "trp = clf.predict(X_test)\n",
    "print (\"Score: \", clf.score(X_test,y_test))"
   ]
  },
  {
   "cell_type": "code",
   "execution_count": 45,
   "metadata": {
    "collapsed": false
   },
   "outputs": [
    {
     "data": {
      "text/plain": [
       "array([3, 5, 2, 2, 2, 0, 2, 2, 2, 2, 2, 5, 5, 2, 2, 2, 4, 2, 5, 2, 2, 5, 3,\n",
       "       2, 2, 5, 5, 2, 5, 5, 3, 2, 5, 2, 1, 4, 5, 2, 0, 2, 0, 0, 2, 4, 2, 2,\n",
       "       1, 3, 5, 2, 5, 5, 5, 2, 0, 2, 2, 2, 2, 0, 5, 0, 0, 2, 5, 3, 2, 5, 0,\n",
       "       3, 5, 5, 4, 4, 3, 4, 0, 0, 5, 2, 5, 4, 5, 3, 1, 2, 2, 2, 2, 5, 2, 2,\n",
       "       4, 4, 2, 2, 2, 4, 2, 3, 3, 5, 2, 2, 0, 2, 1, 5, 3, 5, 2, 2, 3, 2, 2,\n",
       "       5, 3, 5, 5, 5, 2, 4, 2, 2, 2, 5, 1, 2, 5, 5, 2, 0, 2, 1, 5, 2, 3, 2,\n",
       "       3, 0, 2, 2, 2, 2, 2, 2, 3, 2, 5, 3, 5, 2, 2, 2, 5, 4, 2, 4, 3, 5, 2,\n",
       "       5, 0, 4, 1, 0, 2, 0, 5, 3, 2, 2, 2, 2, 5, 5, 5, 2, 2, 5, 5, 1, 3, 0,\n",
       "       2, 2, 5, 4, 3, 5, 5, 1, 5, 2, 2, 3, 2, 5, 5, 5, 2, 2, 2, 2, 2, 2, 2,\n",
       "       2, 2, 5, 5, 5, 2, 5, 2, 2, 2, 5, 5, 5, 5, 2, 0, 5, 5, 5, 5, 5, 5, 2,\n",
       "       2, 0, 5, 0, 1, 2, 2, 2, 2, 2, 0, 5, 5, 2, 2, 5, 5, 2, 5])"
      ]
     },
     "execution_count": 45,
     "metadata": {},
     "output_type": "execute_result"
    }
   ],
   "source": [
    "trp"
   ]
  },
  {
   "cell_type": "code",
   "execution_count": 48,
   "metadata": {
    "collapsed": false
   },
   "outputs": [
    {
     "data": {
      "text/plain": [
       "<matplotlib.collections.PathCollection at 0x1c616bc908>"
      ]
     },
     "execution_count": 48,
     "metadata": {},
     "output_type": "execute_result"
    },
    {
     "data": {
      "image/png": "[encoded data removed]",
      "text/plain": [
       "<matplotlib.figure.Figure at 0x1c460c2438>"
      ]
     },
     "metadata": {},
     "output_type": "display_data"
    }
   ],
   "source": [
    "plt.scatter(y_test,trp)"
   ]
  },
  {
   "cell_type": "code",
   "execution_count": 51,
   "metadata": {
    "collapsed": false
   },
   "outputs": [
    {
     "data": {
      "image/png": "[encoded data removed]",
      "text/plain": [
       "<matplotlib.figure.Figure at 0x1c460c2908>"
      ]
     },
     "metadata": {},
     "output_type": "display_data"
    }
   ],
   "source": [
    "sns.stripplot(x=y_test, y=trp, jitter=True)\n",
    "sns.despine()"
   ]
  },
  {
   "cell_type": "code",
   "execution_count": null,
   "metadata": {
    "collapsed": true
   },
   "outputs": [],
   "source": []
  }
 ],
 "metadata": {
  "anaconda-cloud": {},
  "kernelspec": {
   "display_name": "Python [Root]",
   "language": "python",
   "name": "Python [Root]"
  },
  "language_info": {
   "codemirror_mode": {
    "name": "ipython",
    "version": 3
   },
   "file_extension": ".py",
   "mimetype": "text/x-python",
   "name": "python",
   "nbconvert_exporter": "python",
   "pygments_lexer": "ipython3",
   "version": "3.5.2"
  }
 },
 "nbformat": 4,
 "nbformat_minor": 0
}
