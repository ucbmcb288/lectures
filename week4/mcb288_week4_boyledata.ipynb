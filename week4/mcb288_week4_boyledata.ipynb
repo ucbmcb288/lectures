{
 "cells": [
  {
   "cell_type": "code",
   "execution_count": 8,
   "metadata": {
    "collapsed": true
   },
   "outputs": [],
   "source": [
    "%matplotlib inline\n",
    "\n",
    "import warnings; warnings.simplefilter('ignore')"
   ]
  },
  {
   "cell_type": "code",
   "execution_count": 9,
   "metadata": {
    "collapsed": true
   },
   "outputs": [],
   "source": [
    "import pandas as pd\n",
    "from bs4 import BeautifulSoup\n",
    "import os\n",
    "import matplotlib.pyplot as plt\n",
    "import numpy as np\n",
    "import seaborn as sns"
   ]
  },
  {
   "cell_type": "code",
   "execution_count": 5,
   "metadata": {
    "collapsed": false
   },
   "outputs": [],
   "source": [
    "samples = ['wtnuc','wtcyt','mutnuc','mutcyt']\n",
    "data = {}\n",
    "genename = {}\n",
    "\n",
    "for sample in samples:\n",
    "    data[sample] = {}\n",
    "    \n",
    "    filename = \"boyle/%s.html\" % sample\n",
    "    \n",
    "    # load in an object that stores HTML data\n",
    "    soup = BeautifulSoup(open(filename), \"html.parser\")\n",
    "\n",
    "    # get all tables from HTML\n",
    "    tables = soup.findAll(\"table\")\n",
    "    \n",
    "    # for storing data\n",
    "    tablesdata = []\n",
    "\n",
    "    # loop through tables\n",
    "    for table in tables:\n",
    "        tabledata = []\n",
    "        \n",
    "        # loop on rows in the table which have the 'tr' tag\n",
    "        for tr in table.findAll('tr'):\n",
    "            rowdata = []\n",
    "            \n",
    "            # loop on elements in the table\n",
    "            for td in tr.findAll('td'):\n",
    "\n",
    "                # store data in a list\n",
    "                rowdata.append(td.text)\n",
    "            \n",
    "            # add data from row to list for table\n",
    "            tabledata.append(rowdata)\n",
    "            \n",
    "        # add table to list of tables\n",
    "        tablesdata.append(tabledata)\n",
    "    \n",
    "    # now parse out the tables we want\n",
    "    for table in tablesdata:\n",
    "        try:\n",
    "            if table[0][0] == 'U':\n",
    "                r = table[0]\n",
    "                gid = r[1]\n",
    "                dataval = float(r[3])\n",
    "                data[sample][gid] = dataval\n",
    "                name = r[8]\n",
    "                genename[name] = name\n",
    "        except:\n",
    "            pass\n"
   ]
  },
  {
   "cell_type": "code",
   "execution_count": 23,
   "metadata": {
    "collapsed": false
   },
   "outputs": [],
   "source": [
    "df = pd.DataFrame.from_dict(data)\n",
    "df = df.fillna(0)\n",
    "df = df.div(df.max(axis=1), axis=0)"
   ]
  },
  {
   "cell_type": "code",
   "execution_count": 24,
   "metadata": {
    "collapsed": false
   },
   "outputs": [
    {
     "data": {
      "text/plain": [
       "<seaborn.matrix.ClusterGrid at 0x1133ea710>"
      ]
     },
     "execution_count": 24,
     "metadata": {},
     "output_type": "execute_result"
    },
    {
     "data": {
      "image/png": "[encoded data removed]",
      "text/plain": [
       "<matplotlib.figure.Figure at 0x1133eaf98>"
      ]
     },
     "metadata": {},
     "output_type": "display_data"
    }
   ],
   "source": [
    "sns.clustermap(df, metric='cosine', method='average', xticklabels = True, yticklabels = False)"
   ]
  },
  {
   "cell_type": "code",
   "execution_count": null,
   "metadata": {
    "collapsed": true
   },
   "outputs": [],
   "source": []
  }
 ],
 "metadata": {
  "kernelspec": {
   "display_name": "Python [Root]",
   "language": "python",
   "name": "Python [Root]"
  },
  "language_info": {
   "codemirror_mode": {
    "name": "ipython",
    "version": 3
   },
   "file_extension": ".py",
   "mimetype": "text/x-python",
   "name": "python",
   "nbconvert_exporter": "python",
   "pygments_lexer": "ipython3",
   "version": "3.5.2"
  }
 },
 "nbformat": 4,
 "nbformat_minor": 0
}
